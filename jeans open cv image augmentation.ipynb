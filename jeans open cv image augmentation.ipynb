{
 "cells": [
  {
   "cell_type": "code",
   "execution_count": 14,
   "metadata": {},
   "outputs": [],
   "source": [
    "import cv2\n",
    "import glob\n",
    "import os\n",
    "import random\n",
    "import numpy as np"
   ]
  },
  {
   "cell_type": "code",
   "execution_count": 2,
   "metadata": {},
   "outputs": [],
   "source": [
    "#input folder is where our traning jeans images are stored(there are 80 photos in my training dataset will augment each photo)\n",
    "inputfolder='C:/Users/COMP/men wear bottoms/train/jeans'\n",
    "#making a directory where are photos after the flip will be stored\n",
    "os.mkdir('flipped')\n",
    "i=0\n",
    "for img in glob.glob(inputfolder+\"/*jpeg\"):\n",
    "    image=cv2.imread(img)\n",
    "    imgflipped=cv2.flip(image,1)\n",
    "    cv2.imwrite(\"flipped/flip%04i.jpeg\" %i,imgflipped)#saving my images in flipped folder and giving the photos label\n",
    "    i +=1\n",
    "    cv2.imshow('image',imgflipped)\n",
    "    cv2.waitKey(30)\n",
    "cv2.destroyAllWindows()"
   ]
  },
  {
   "cell_type": "code",
   "execution_count": null,
   "metadata": {},
   "outputs": [],
   "source": [
    "#for rotation we have range (-30,30)so once i  will flip it 15(angle) to right and then 25 to left(angle)"
   ]
  },
  {
   "cell_type": "code",
   "execution_count": 49,
   "metadata": {},
   "outputs": [],
   "source": [
    "inputfolder='C:/Users/COMP/men wear bottoms/train/jeans'\n",
    "os.mkdir('rotation1')\n",
    "i=0\n",
    "for img in glob.glob(inputfolder+\"/*jpeg\"):\n",
    "    image=cv2.imread(img)\n",
    "    height,width=image.shape[:2]\n",
    "    rotation_matrix=cv2.getRotationMatrix2D((width/2,height/2),-15,0.88)\n",
    "    rotated_image=cv2.warpAffine(image,rotation_matrix,(width,height))\n",
    "    cv2.imwrite(\"rotation1/rotatedr%04i.jpeg\" %i,rotated_image)\n",
    "    i +=1\n",
    "    cv2.imshow('image',rotated_image)\n",
    "    cv2.waitKey(30)\n",
    "cv2.destroyAllWindows()"
   ]
  },
  {
   "cell_type": "code",
   "execution_count": 50,
   "metadata": {},
   "outputs": [],
   "source": [
    "inputfolder='C:/Users/COMP/men wear bottoms/train/jeans'\n",
    "os.mkdir('rotation2')\n",
    "i=0\n",
    "for img in glob.glob(inputfolder+\"/*jpeg\"):\n",
    "    image=cv2.imread(img)\n",
    "    height,width=image.shape[:2]\n",
    "    rotation_matrix=cv2.getRotationMatrix2D((width/2,height/2),25,0.88)\n",
    "    rotated_image=cv2.warpAffine(image,rotation_matrix,(width,height))\n",
    "    cv2.imwrite(\"rotation2/rotatedl%04i.jpeg\" %i,rotated_image)\n",
    "    i +=1\n",
    "    cv2.imshow('image',rotated_image)\n",
    "    cv2.waitKey(30)\n",
    "cv2.destroyAllWindows()"
   ]
  },
  {
   "cell_type": "code",
   "execution_count": null,
   "metadata": {},
   "outputs": [],
   "source": [
    "#similarly making folders for brightness_add,brightness_subtract and sharpening,reading the images applying the augmentaton and saving them"
   ]
  },
  {
   "cell_type": "code",
   "execution_count": 16,
   "metadata": {},
   "outputs": [],
   "source": [
    "inputfolder='C:/Users/COMP/men wear bottoms/train/jeans'\n",
    "os.mkdir('brightness_add')\n",
    "i=0\n",
    "for img in glob.glob(inputfolder+\"/*jpeg\"):\n",
    "    image=cv2.imread(img)\n",
    "    M=np.ones(image.shape,dtype=\"uint8\")*75\n",
    "    added=cv2.add(image,M)\n",
    "    cv2.imwrite(\"brightness_add/brightnessadd%04i.jpeg\" %i,added)\n",
    "    i +=1\n",
    "    cv2.imshow('image',added)\n",
    "    cv2.waitKey(30)\n",
    "cv2.destroyAllWindows()"
   ]
  },
  {
   "cell_type": "code",
   "execution_count": 17,
   "metadata": {},
   "outputs": [],
   "source": [
    "inputfolder='C:/Users/COMP/men wear bottoms/train/jeans'\n",
    "os.mkdir('brightness_subtract')\n",
    "i=0\n",
    "for img in glob.glob(inputfolder+\"/*jpeg\"):\n",
    "    image=cv2.imread(img)\n",
    "    M=np.ones(image.shape,dtype=\"uint8\")*75\n",
    "    subtracted=cv2.subtract(image,M)\n",
    "    cv2.imwrite(\"brightness_subtract/brightnesssubtract%04i.jpeg\" %i,subtracted)\n",
    "    i +=1\n",
    "    cv2.imshow('image',subtracted)\n",
    "    cv2.waitKey(30)\n",
    "cv2.destroyAllWindows()"
   ]
  },
  {
   "cell_type": "code",
   "execution_count": 31,
   "metadata": {},
   "outputs": [],
   "source": [
    "inputfolder='C:/Users/COMP/men wear bottoms/train/jeans'\n",
    "os.mkdir('sharpening')\n",
    "i=0\n",
    "for img in glob.glob(inputfolder+\"/*jpeg\"):\n",
    "    image=cv2.imread(img)\n",
    "    kernel_sharpening=np.array([[-1,-1,-1],[-1,8,-1],[-1,-1,-1]])\n",
    "    sharpened=cv2.filter2D(image,-1,kernel_sharpening)\n",
    "   \n",
    "    cv2.imwrite(\"sharpening/sharpened%04i.jpeg\" %i,sharpened)\n",
    "    i +=1\n",
    "    cv2.imshow('image',sharpened)\n",
    "    cv2.waitKey(30)\n",
    "cv2.destroyAllWindows()"
   ]
  },
  {
   "cell_type": "code",
   "execution_count": null,
   "metadata": {},
   "outputs": [],
   "source": []
  }
 ],
 "metadata": {
  "kernelspec": {
   "display_name": "Python 3",
   "language": "python",
   "name": "python3"
  },
  "language_info": {
   "codemirror_mode": {
    "name": "ipython",
    "version": 3
   },
   "file_extension": ".py",
   "mimetype": "text/x-python",
   "name": "python",
   "nbconvert_exporter": "python",
   "pygments_lexer": "ipython3",
   "version": "3.7.7"
  }
 },
 "nbformat": 4,
 "nbformat_minor": 4
}
